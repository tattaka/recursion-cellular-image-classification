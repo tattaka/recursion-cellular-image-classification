{
 "cells": [
  {
   "cell_type": "markdown",
   "metadata": {},
   "source": [
    "# Intro\n",
    "\n",
    "* This kernel lets you efficiently convert all images from their tensor format into RGB images, then save them as 224x224 JPEGs inside two zip files (`train` and `test`).\n",
    "* You might have encountered speed and memory issues when using `rxrx.io.load_site_as_rgb`; we will create a function `efficient_load` that will address those issues.\n",
    "* Feel free to customize this kernel as you wish. You can change the shape and extension of the final output image by changing the input arguments to `convert_to_rgb` and `build_new_df`.\n",
    "\n",
    "\n",
    "### Sources\n",
    "\n",
    "* Found out about the loading functions from this kernel: https://www.kaggle.com/jesucristo/quick-visualization-eda"
   ]
  },
  {
   "cell_type": "code",
   "execution_count": 76,
   "metadata": {
    "_cell_guid": "b1076dfc-b9ad-4769-8c92-a6c4dae69d19",
    "_uuid": "8f2839f25d086af736a60e9eeb907d3b93b6e0e5"
   },
   "outputs": [],
   "source": [
    "import os\n",
    "import sys\n",
    "import zipfile\n",
    "\n",
    "import numpy as np\n",
    "import pandas as pd\n",
    "import cv2\n",
    "import matplotlib.pyplot as plt\n",
    "from tqdm import tqdm\n",
    "from PIL import Image\n",
    "import pickle"
   ]
  },
  {
   "cell_type": "markdown",
   "metadata": {},
   "source": [
    "# Preliminary"
   ]
  },
  {
   "cell_type": "markdown",
   "metadata": {},
   "source": [
    "We need to also import rxrx in order to convert the tensors into images."
   ]
  },
  {
   "cell_type": "code",
   "execution_count": 2,
   "metadata": {},
   "outputs": [
    {
     "name": "stdout",
     "output_type": "stream",
     "text": [
      "fatal: destination path 'rxrx1-utils' already exists and is not an empty directory.\r\n"
     ]
    },
    {
     "ename": "ModuleNotFoundError",
     "evalue": "No module named 'tensorflow'",
     "output_type": "error",
     "traceback": [
      "\u001b[0;31m---------------------------------------------------------------------------\u001b[0m",
      "\u001b[0;31mModuleNotFoundError\u001b[0m                       Traceback (most recent call last)",
      "\u001b[0;32m<ipython-input-2-cf465467ca94>\u001b[0m in \u001b[0;36m<module>\u001b[0;34m()\u001b[0m\n\u001b[1;32m      1\u001b[0m \u001b[0mget_ipython\u001b[0m\u001b[0;34m(\u001b[0m\u001b[0;34m)\u001b[0m\u001b[0;34m.\u001b[0m\u001b[0msystem\u001b[0m\u001b[0;34m(\u001b[0m\u001b[0;34m'git clone https://github.com/recursionpharma/rxrx1-utils'\u001b[0m\u001b[0;34m)\u001b[0m\u001b[0;34m\u001b[0m\u001b[0m\n\u001b[1;32m      2\u001b[0m \u001b[0msys\u001b[0m\u001b[0;34m.\u001b[0m\u001b[0mpath\u001b[0m\u001b[0;34m.\u001b[0m\u001b[0mappend\u001b[0m\u001b[0;34m(\u001b[0m\u001b[0;34m'rxrx1-utils'\u001b[0m\u001b[0;34m)\u001b[0m\u001b[0;34m\u001b[0m\u001b[0m\n\u001b[0;32m----> 3\u001b[0;31m \u001b[0;32mimport\u001b[0m \u001b[0mrxrx\u001b[0m\u001b[0;34m.\u001b[0m\u001b[0mio\u001b[0m \u001b[0;32mas\u001b[0m \u001b[0mrio\u001b[0m\u001b[0;34m\u001b[0m\u001b[0m\n\u001b[0m",
      "\u001b[0;32m~/ml_environment/projects/Kosei-Line/recursion-cellular-image-classification/input/rxrx1-utils/rxrx/io.py\u001b[0m in \u001b[0;36m<module>\u001b[0;34m()\u001b[0m\n\u001b[1;32m      9\u001b[0m \u001b[0;32mimport\u001b[0m \u001b[0mpandas\u001b[0m \u001b[0;32mas\u001b[0m \u001b[0mpd\u001b[0m\u001b[0;34m\u001b[0m\u001b[0m\n\u001b[1;32m     10\u001b[0m \u001b[0;34m\u001b[0m\u001b[0m\n\u001b[0;32m---> 11\u001b[0;31m \u001b[0;32mimport\u001b[0m \u001b[0mtensorflow\u001b[0m \u001b[0;32mas\u001b[0m \u001b[0mtf\u001b[0m\u001b[0;34m\u001b[0m\u001b[0m\n\u001b[0m\u001b[1;32m     12\u001b[0m \u001b[0;34m\u001b[0m\u001b[0m\n\u001b[1;32m     13\u001b[0m \u001b[0mDEFAULT_BASE_PATH\u001b[0m \u001b[0;34m=\u001b[0m \u001b[0;34m'gs://rxrx1-us-central1'\u001b[0m\u001b[0;34m\u001b[0m\u001b[0m\n",
      "\u001b[0;31mModuleNotFoundError\u001b[0m: No module named 'tensorflow'"
     ]
    }
   ],
   "source": [
    "!git clone https://github.com/recursionpharma/rxrx1-utils\n",
    "sys.path.append('rxrx1-utils')\n",
    "import rxrx.io as rio"
   ]
  },
  {
   "cell_type": "markdown",
   "metadata": {},
   "source": [
    "Will need those folders later for storing our jpegs."
   ]
  },
  {
   "cell_type": "code",
   "execution_count": 3,
   "metadata": {},
   "outputs": [
    {
     "name": "stdout",
     "output_type": "stream",
     "text": [
      "new_test.csv\t\t\t\t\t      test_6ch\r\n",
      "new_test_6ch.csv\t\t\t\t      test_controls.csv\r\n",
      "new_train.csv\t\t\t\t\t      test_rgb\r\n",
      "new_train_6ch.csv\t\t\t\t      train\r\n",
      "pixel_stats.csv\t\t\t\t\t      train.csv\r\n",
      "recursion-2019-efficiently-load-entire-dataset.ipynb  train_6ch\r\n",
      "recursion_dataset_license.pdf\t\t\t      train_controls.csv\r\n",
      "rxrx1-utils\t\t\t\t\t      train_fold0.csv\r\n",
      "sample_submission.csv\t\t\t\t      train_rgb\r\n",
      "test\t\t\t\t\t\t      valid_fold0.csv\r\n",
      "test.csv\r\n"
     ]
    }
   ],
   "source": [
    "!ls"
   ]
  },
  {
   "cell_type": "code",
   "execution_count": 25,
   "metadata": {
    "_cell_guid": "79c7e3d0-c299-4dcb-8224-4455121ee9b0",
    "_uuid": "d629ff2d2480ee46fbb7e2d37f6b5fab8052498a"
   },
   "outputs": [
    {
     "name": "stdout",
     "output_type": "stream",
     "text": [
      "(36515, 5)\n",
      "(19897, 4)\n"
     ]
    },
    {
     "data": {
      "text/html": [
       "<div>\n",
       "<style scoped>\n",
       "    .dataframe tbody tr th:only-of-type {\n",
       "        vertical-align: middle;\n",
       "    }\n",
       "\n",
       "    .dataframe tbody tr th {\n",
       "        vertical-align: top;\n",
       "    }\n",
       "\n",
       "    .dataframe thead th {\n",
       "        text-align: right;\n",
       "    }\n",
       "</style>\n",
       "<table border=\"1\" class=\"dataframe\">\n",
       "  <thead>\n",
       "    <tr style=\"text-align: right;\">\n",
       "      <th></th>\n",
       "      <th>id_code</th>\n",
       "      <th>experiment</th>\n",
       "      <th>plate</th>\n",
       "      <th>well</th>\n",
       "      <th>sirna</th>\n",
       "    </tr>\n",
       "  </thead>\n",
       "  <tbody>\n",
       "    <tr>\n",
       "      <th>0</th>\n",
       "      <td>HEPG2-01_1_B03</td>\n",
       "      <td>HEPG2-01</td>\n",
       "      <td>1</td>\n",
       "      <td>B03</td>\n",
       "      <td>513</td>\n",
       "    </tr>\n",
       "    <tr>\n",
       "      <th>1</th>\n",
       "      <td>HEPG2-01_1_B04</td>\n",
       "      <td>HEPG2-01</td>\n",
       "      <td>1</td>\n",
       "      <td>B04</td>\n",
       "      <td>840</td>\n",
       "    </tr>\n",
       "    <tr>\n",
       "      <th>2</th>\n",
       "      <td>HEPG2-01_1_B05</td>\n",
       "      <td>HEPG2-01</td>\n",
       "      <td>1</td>\n",
       "      <td>B05</td>\n",
       "      <td>1020</td>\n",
       "    </tr>\n",
       "    <tr>\n",
       "      <th>3</th>\n",
       "      <td>HEPG2-01_1_B06</td>\n",
       "      <td>HEPG2-01</td>\n",
       "      <td>1</td>\n",
       "      <td>B06</td>\n",
       "      <td>254</td>\n",
       "    </tr>\n",
       "    <tr>\n",
       "      <th>4</th>\n",
       "      <td>HEPG2-01_1_B07</td>\n",
       "      <td>HEPG2-01</td>\n",
       "      <td>1</td>\n",
       "      <td>B07</td>\n",
       "      <td>144</td>\n",
       "    </tr>\n",
       "  </tbody>\n",
       "</table>\n",
       "</div>"
      ],
      "text/plain": [
       "          id_code experiment  plate well  sirna\n",
       "0  HEPG2-01_1_B03   HEPG2-01      1  B03    513\n",
       "1  HEPG2-01_1_B04   HEPG2-01      1  B04    840\n",
       "2  HEPG2-01_1_B05   HEPG2-01      1  B05   1020\n",
       "3  HEPG2-01_1_B06   HEPG2-01      1  B06    254\n",
       "4  HEPG2-01_1_B07   HEPG2-01      1  B07    144"
      ]
     },
     "execution_count": 25,
     "metadata": {},
     "output_type": "execute_result"
    }
   ],
   "source": [
    "train_df = pd.read_csv('../input/train.csv')\n",
    "test_df = pd.read_csv('../input/test.csv')\n",
    "print(train_df.shape)\n",
    "print(test_df.shape)\n",
    "train_df.head()"
   ]
  },
  {
   "cell_type": "code",
   "execution_count": 26,
   "metadata": {},
   "outputs": [
    {
     "data": {
      "text/html": [
       "<div>\n",
       "<style scoped>\n",
       "    .dataframe tbody tr th:only-of-type {\n",
       "        vertical-align: middle;\n",
       "    }\n",
       "\n",
       "    .dataframe tbody tr th {\n",
       "        vertical-align: top;\n",
       "    }\n",
       "\n",
       "    .dataframe thead th {\n",
       "        text-align: right;\n",
       "    }\n",
       "</style>\n",
       "<table border=\"1\" class=\"dataframe\">\n",
       "  <thead>\n",
       "    <tr style=\"text-align: right;\">\n",
       "      <th></th>\n",
       "      <th>id_code</th>\n",
       "      <th>experiment</th>\n",
       "      <th>plate</th>\n",
       "      <th>well</th>\n",
       "      <th>sirna</th>\n",
       "    </tr>\n",
       "  </thead>\n",
       "  <tbody>\n",
       "    <tr>\n",
       "      <th>36510</th>\n",
       "      <td>U2OS-03_4_O19</td>\n",
       "      <td>U2OS-03</td>\n",
       "      <td>4</td>\n",
       "      <td>O19</td>\n",
       "      <td>103</td>\n",
       "    </tr>\n",
       "    <tr>\n",
       "      <th>36511</th>\n",
       "      <td>U2OS-03_4_O20</td>\n",
       "      <td>U2OS-03</td>\n",
       "      <td>4</td>\n",
       "      <td>O20</td>\n",
       "      <td>202</td>\n",
       "    </tr>\n",
       "    <tr>\n",
       "      <th>36512</th>\n",
       "      <td>U2OS-03_4_O21</td>\n",
       "      <td>U2OS-03</td>\n",
       "      <td>4</td>\n",
       "      <td>O21</td>\n",
       "      <td>824</td>\n",
       "    </tr>\n",
       "    <tr>\n",
       "      <th>36513</th>\n",
       "      <td>U2OS-03_4_O22</td>\n",
       "      <td>U2OS-03</td>\n",
       "      <td>4</td>\n",
       "      <td>O22</td>\n",
       "      <td>328</td>\n",
       "    </tr>\n",
       "    <tr>\n",
       "      <th>36514</th>\n",
       "      <td>U2OS-03_4_O23</td>\n",
       "      <td>U2OS-03</td>\n",
       "      <td>4</td>\n",
       "      <td>O23</td>\n",
       "      <td>509</td>\n",
       "    </tr>\n",
       "  </tbody>\n",
       "</table>\n",
       "</div>"
      ],
      "text/plain": [
       "             id_code experiment  plate well  sirna\n",
       "36510  U2OS-03_4_O19    U2OS-03      4  O19    103\n",
       "36511  U2OS-03_4_O20    U2OS-03      4  O20    202\n",
       "36512  U2OS-03_4_O21    U2OS-03      4  O21    824\n",
       "36513  U2OS-03_4_O22    U2OS-03      4  O22    328\n",
       "36514  U2OS-03_4_O23    U2OS-03      4  O23    509"
      ]
     },
     "execution_count": 26,
     "metadata": {},
     "output_type": "execute_result"
    }
   ],
   "source": [
    "train_df.tail()"
   ]
  },
  {
   "cell_type": "markdown",
   "metadata": {},
   "source": [
    "We define a utility function for loading the images. This leverages the efficiency of the `pillow` library."
   ]
  },
  {
   "cell_type": "code",
   "execution_count": 14,
   "metadata": {},
   "outputs": [],
   "source": [
    "def efficient_load(dataset,\n",
    "                   experiment,\n",
    "                   plate,\n",
    "                   well,\n",
    "                   site,\n",
    "                   channels=rio.DEFAULT_CHANNELS):\n",
    "    site_img = np.empty((512, 512, 6), dtype=np.uint8)\n",
    "\n",
    "    for channel in channels:\n",
    "        path = f'{dataset}/{experiment}/Plate{plate}/{well}_s{site}_w{channel}.png'\n",
    "        im = Image.open(path)\n",
    "        site_img[:, :, channel - 1] = im\n",
    "    \n",
    "    return site_img.transpose((2, 0, 1))"
   ]
  },
  {
   "cell_type": "markdown",
   "metadata": {},
   "source": [
    "# Comparing loading speed"
   ]
  },
  {
   "cell_type": "markdown",
   "metadata": {},
   "source": [
    "Let's take a look at how fast each function is:"
   ]
  },
  {
   "cell_type": "code",
   "execution_count": 16,
   "metadata": {},
   "outputs": [
    {
     "name": "stdout",
     "output_type": "stream",
     "text": [
      "CPU times: user 189 ms, sys: 47.5 ms, total: 236 ms\n",
      "Wall time: 1.38 s\n",
      "CPU times: user 20.3 ms, sys: 0 ns, total: 20.3 ms\n",
      "Wall time: 20 ms\n",
      "img1 is identical to img2: False\n"
     ]
    },
    {
     "name": "stderr",
     "output_type": "stream",
     "text": [
      "/opt/conda/lib/python3.6/site-packages/ipykernel_launcher.py:9: DeprecationWarning: elementwise comparison failed; this will raise an error in the future.\n",
      "  if __name__ == '__main__':\n"
     ]
    }
   ],
   "source": [
    "experiment = train_df['experiment'][1]\n",
    "plate = train_df['plate'][1]\n",
    "well = train_df['well'][1]\n",
    "site = 2\n",
    "\n",
    "%time img1 = rio.load_site_as_rgb('train', experiment, plate, well, site)\n",
    "%time img2 = efficient_load('train', experiment, plate, well, site)\n",
    "\n",
    "print(\"img1 is identical to img2:\", (img1 == img2))"
   ]
  },
  {
   "cell_type": "code",
   "execution_count": 17,
   "metadata": {},
   "outputs": [
    {
     "data": {
      "text/plain": [
       "(6, 512, 512)"
      ]
     },
     "execution_count": 17,
     "metadata": {},
     "output_type": "execute_result"
    }
   ],
   "source": [
    "img2.shape"
   ]
  },
  {
   "cell_type": "markdown",
   "metadata": {},
   "source": [
    "Our new method is much faster, and also more memory efficient. The reason for this is because the underlying loading function for `rxrx` is optimized for loading into tensorflow, whereas in our function we are using `pillow`, and construct our numpy array as we go."
   ]
  },
  {
   "cell_type": "markdown",
   "metadata": {},
   "source": [
    "# Saving as JPEG"
   ]
  },
  {
   "cell_type": "code",
   "execution_count": 35,
   "metadata": {},
   "outputs": [],
   "source": [
    "import cv2\n",
    "# def convert_to_rgb(df, split, resize=True, new_size=224, extension='jpeg'):\n",
    "def convert_to_rgb(df, split, resize=True, extension='npy'):\n",
    "    N = df.shape[0]\n",
    "\n",
    "    for i in tqdm(range(N)):\n",
    "        code = df['id_code'][i]\n",
    "        experiment = df['experiment'][i]\n",
    "        plate = df['plate'][i]\n",
    "        well = df['well'][i]\n",
    "\n",
    "        for site in [1, 2]:\n",
    "            save_path = f'{split}_6ch/{code}_s{site}.{extension}'\n",
    "            im = efficient_load(split, experiment, plate, well, site)\n",
    "            np.save(save_path, im, allow_pickle=True, fix_imports=True)\n",
    "#             im = Image.fromarray(im)\n",
    "#             if resize:\n",
    "#                 im = im.resize((new_size, new_size), resample=Image.BILINEAR)\n",
    "            \n",
    "#             cv2.imwrite(save_path, im)"
   ]
  },
  {
   "cell_type": "code",
   "execution_count": null,
   "metadata": {},
   "outputs": [
    {
     "name": "stderr",
     "output_type": "stream",
     "text": [
      " 90%|█████████ | 32945/36515 [1:55:25<11:18,  5.26it/s]  "
     ]
    }
   ],
   "source": [
    "convert_to_rgb(train_df, 'train')\n",
    "convert_to_rgb(test_df, 'test')"
   ]
  },
  {
   "cell_type": "markdown",
   "metadata": {},
   "source": [
    "# Create new labels\n",
    "\n",
    "Since our data is now \"duplicated\" (as in, we have separated the sites), we have to also duplicate our labels."
   ]
  },
  {
   "cell_type": "code",
   "execution_count": 9,
   "metadata": {},
   "outputs": [],
   "source": [
    "def build_new_df(df, extension='npy'):\n",
    "    new_df = pd.concat([df, df])\n",
    "    new_df['filename'] = pd.concat([\n",
    "        df['id_code'].apply(lambda string: string + f'_s1.{extension}'),\n",
    "        df['id_code'].apply(lambda string: string + f'_s2.{extension}')\n",
    "    ])\n",
    "    new_df['cell'] = pd.concat([df['experiment'].apply(lambda x: x.split('-')[0]),  df['experiment'].apply(lambda x: x.split('-')[0])])\n",
    "    new_df['site'] = pd.concat([df['experiment'].apply(lambda x: 1),  df['experiment'].apply(lambda x: 2)])\n",
    "    return new_df\n",
    "\n",
    "\n",
    "new_train = build_new_df(train_df)\n",
    "new_test = build_new_df(test_df)\n",
    "\n",
    "new_train.to_csv('new_train_6ch.csv', index=False)\n",
    "new_test.to_csv('new_test_6ch.csv', index=False)"
   ]
  },
  {
   "cell_type": "code",
   "execution_count": 10,
   "metadata": {
    "scrolled": true
   },
   "outputs": [
    {
     "data": {
      "text/html": [
       "<div>\n",
       "<style scoped>\n",
       "    .dataframe tbody tr th:only-of-type {\n",
       "        vertical-align: middle;\n",
       "    }\n",
       "\n",
       "    .dataframe tbody tr th {\n",
       "        vertical-align: top;\n",
       "    }\n",
       "\n",
       "    .dataframe thead th {\n",
       "        text-align: right;\n",
       "    }\n",
       "</style>\n",
       "<table border=\"1\" class=\"dataframe\">\n",
       "  <thead>\n",
       "    <tr style=\"text-align: right;\">\n",
       "      <th></th>\n",
       "      <th>id_code</th>\n",
       "      <th>experiment</th>\n",
       "      <th>plate</th>\n",
       "      <th>well</th>\n",
       "      <th>sirna</th>\n",
       "      <th>filename</th>\n",
       "      <th>cell</th>\n",
       "      <th>site</th>\n",
       "    </tr>\n",
       "  </thead>\n",
       "  <tbody>\n",
       "    <tr>\n",
       "      <th>0</th>\n",
       "      <td>HEPG2-01_1_B03</td>\n",
       "      <td>HEPG2-01</td>\n",
       "      <td>1</td>\n",
       "      <td>B03</td>\n",
       "      <td>513</td>\n",
       "      <td>HEPG2-01_1_B03_s1.npy</td>\n",
       "      <td>HEPG2</td>\n",
       "      <td>1</td>\n",
       "    </tr>\n",
       "    <tr>\n",
       "      <th>1</th>\n",
       "      <td>HEPG2-01_1_B04</td>\n",
       "      <td>HEPG2-01</td>\n",
       "      <td>1</td>\n",
       "      <td>B04</td>\n",
       "      <td>840</td>\n",
       "      <td>HEPG2-01_1_B04_s1.npy</td>\n",
       "      <td>HEPG2</td>\n",
       "      <td>1</td>\n",
       "    </tr>\n",
       "    <tr>\n",
       "      <th>2</th>\n",
       "      <td>HEPG2-01_1_B05</td>\n",
       "      <td>HEPG2-01</td>\n",
       "      <td>1</td>\n",
       "      <td>B05</td>\n",
       "      <td>1020</td>\n",
       "      <td>HEPG2-01_1_B05_s1.npy</td>\n",
       "      <td>HEPG2</td>\n",
       "      <td>1</td>\n",
       "    </tr>\n",
       "    <tr>\n",
       "      <th>3</th>\n",
       "      <td>HEPG2-01_1_B06</td>\n",
       "      <td>HEPG2-01</td>\n",
       "      <td>1</td>\n",
       "      <td>B06</td>\n",
       "      <td>254</td>\n",
       "      <td>HEPG2-01_1_B06_s1.npy</td>\n",
       "      <td>HEPG2</td>\n",
       "      <td>1</td>\n",
       "    </tr>\n",
       "    <tr>\n",
       "      <th>4</th>\n",
       "      <td>HEPG2-01_1_B07</td>\n",
       "      <td>HEPG2-01</td>\n",
       "      <td>1</td>\n",
       "      <td>B07</td>\n",
       "      <td>144</td>\n",
       "      <td>HEPG2-01_1_B07_s1.npy</td>\n",
       "      <td>HEPG2</td>\n",
       "      <td>1</td>\n",
       "    </tr>\n",
       "  </tbody>\n",
       "</table>\n",
       "</div>"
      ],
      "text/plain": [
       "          id_code experiment  plate well  sirna               filename   cell  \\\n",
       "0  HEPG2-01_1_B03   HEPG2-01      1  B03    513  HEPG2-01_1_B03_s1.npy  HEPG2   \n",
       "1  HEPG2-01_1_B04   HEPG2-01      1  B04    840  HEPG2-01_1_B04_s1.npy  HEPG2   \n",
       "2  HEPG2-01_1_B05   HEPG2-01      1  B05   1020  HEPG2-01_1_B05_s1.npy  HEPG2   \n",
       "3  HEPG2-01_1_B06   HEPG2-01      1  B06    254  HEPG2-01_1_B06_s1.npy  HEPG2   \n",
       "4  HEPG2-01_1_B07   HEPG2-01      1  B07    144  HEPG2-01_1_B07_s1.npy  HEPG2   \n",
       "\n",
       "   site  \n",
       "0     1  \n",
       "1     1  \n",
       "2     1  \n",
       "3     1  \n",
       "4     1  "
      ]
     },
     "execution_count": 10,
     "metadata": {},
     "output_type": "execute_result"
    }
   ],
   "source": [
    "new_train.head()"
   ]
  },
  {
   "cell_type": "code",
   "execution_count": 11,
   "metadata": {
    "scrolled": true
   },
   "outputs": [
    {
     "data": {
      "text/html": [
       "<div>\n",
       "<style scoped>\n",
       "    .dataframe tbody tr th:only-of-type {\n",
       "        vertical-align: middle;\n",
       "    }\n",
       "\n",
       "    .dataframe tbody tr th {\n",
       "        vertical-align: top;\n",
       "    }\n",
       "\n",
       "    .dataframe thead th {\n",
       "        text-align: right;\n",
       "    }\n",
       "</style>\n",
       "<table border=\"1\" class=\"dataframe\">\n",
       "  <thead>\n",
       "    <tr style=\"text-align: right;\">\n",
       "      <th></th>\n",
       "      <th>id_code</th>\n",
       "      <th>experiment</th>\n",
       "      <th>plate</th>\n",
       "      <th>well</th>\n",
       "      <th>sirna</th>\n",
       "      <th>filename</th>\n",
       "      <th>cell</th>\n",
       "      <th>site</th>\n",
       "    </tr>\n",
       "  </thead>\n",
       "  <tbody>\n",
       "    <tr>\n",
       "      <th>36510</th>\n",
       "      <td>U2OS-03_4_O19</td>\n",
       "      <td>U2OS-03</td>\n",
       "      <td>4</td>\n",
       "      <td>O19</td>\n",
       "      <td>103</td>\n",
       "      <td>U2OS-03_4_O19_s2.npy</td>\n",
       "      <td>U2OS</td>\n",
       "      <td>2</td>\n",
       "    </tr>\n",
       "    <tr>\n",
       "      <th>36511</th>\n",
       "      <td>U2OS-03_4_O20</td>\n",
       "      <td>U2OS-03</td>\n",
       "      <td>4</td>\n",
       "      <td>O20</td>\n",
       "      <td>202</td>\n",
       "      <td>U2OS-03_4_O20_s2.npy</td>\n",
       "      <td>U2OS</td>\n",
       "      <td>2</td>\n",
       "    </tr>\n",
       "    <tr>\n",
       "      <th>36512</th>\n",
       "      <td>U2OS-03_4_O21</td>\n",
       "      <td>U2OS-03</td>\n",
       "      <td>4</td>\n",
       "      <td>O21</td>\n",
       "      <td>824</td>\n",
       "      <td>U2OS-03_4_O21_s2.npy</td>\n",
       "      <td>U2OS</td>\n",
       "      <td>2</td>\n",
       "    </tr>\n",
       "    <tr>\n",
       "      <th>36513</th>\n",
       "      <td>U2OS-03_4_O22</td>\n",
       "      <td>U2OS-03</td>\n",
       "      <td>4</td>\n",
       "      <td>O22</td>\n",
       "      <td>328</td>\n",
       "      <td>U2OS-03_4_O22_s2.npy</td>\n",
       "      <td>U2OS</td>\n",
       "      <td>2</td>\n",
       "    </tr>\n",
       "    <tr>\n",
       "      <th>36514</th>\n",
       "      <td>U2OS-03_4_O23</td>\n",
       "      <td>U2OS-03</td>\n",
       "      <td>4</td>\n",
       "      <td>O23</td>\n",
       "      <td>509</td>\n",
       "      <td>U2OS-03_4_O23_s2.npy</td>\n",
       "      <td>U2OS</td>\n",
       "      <td>2</td>\n",
       "    </tr>\n",
       "  </tbody>\n",
       "</table>\n",
       "</div>"
      ],
      "text/plain": [
       "             id_code experiment  plate well  sirna              filename  \\\n",
       "36510  U2OS-03_4_O19    U2OS-03      4  O19    103  U2OS-03_4_O19_s2.npy   \n",
       "36511  U2OS-03_4_O20    U2OS-03      4  O20    202  U2OS-03_4_O20_s2.npy   \n",
       "36512  U2OS-03_4_O21    U2OS-03      4  O21    824  U2OS-03_4_O21_s2.npy   \n",
       "36513  U2OS-03_4_O22    U2OS-03      4  O22    328  U2OS-03_4_O22_s2.npy   \n",
       "36514  U2OS-03_4_O23    U2OS-03      4  O23    509  U2OS-03_4_O23_s2.npy   \n",
       "\n",
       "       cell  site  \n",
       "36510  U2OS     2  \n",
       "36511  U2OS     2  \n",
       "36512  U2OS     2  \n",
       "36513  U2OS     2  \n",
       "36514  U2OS     2  "
      ]
     },
     "execution_count": 11,
     "metadata": {},
     "output_type": "execute_result"
    }
   ],
   "source": [
    "new_train.tail()"
   ]
  },
  {
   "cell_type": "markdown",
   "metadata": {},
   "source": [
    "# Remove the rxrx1 utils\n",
    "\n",
    "Need to remove those, otherwise we will have an error when saving."
   ]
  },
  {
   "cell_type": "code",
   "execution_count": 22,
   "metadata": {},
   "outputs": [],
   "source": [
    "pix_df = pd.read_csv('../input/pixel_stats.csv')"
   ]
  },
  {
   "cell_type": "code",
   "execution_count": 77,
   "metadata": {
    "scrolled": true
   },
   "outputs": [
    {
     "data": {
      "text/html": [
       "<div>\n",
       "<style scoped>\n",
       "    .dataframe tbody tr th:only-of-type {\n",
       "        vertical-align: middle;\n",
       "    }\n",
       "\n",
       "    .dataframe tbody tr th {\n",
       "        vertical-align: top;\n",
       "    }\n",
       "\n",
       "    .dataframe thead th {\n",
       "        text-align: right;\n",
       "    }\n",
       "</style>\n",
       "<table border=\"1\" class=\"dataframe\">\n",
       "  <thead>\n",
       "    <tr style=\"text-align: right;\">\n",
       "      <th></th>\n",
       "      <th>id_code</th>\n",
       "      <th>experiment</th>\n",
       "      <th>plate</th>\n",
       "      <th>well</th>\n",
       "      <th>site</th>\n",
       "      <th>channel</th>\n",
       "      <th>mean</th>\n",
       "      <th>std</th>\n",
       "      <th>median</th>\n",
       "      <th>min</th>\n",
       "      <th>max</th>\n",
       "    </tr>\n",
       "  </thead>\n",
       "  <tbody>\n",
       "    <tr>\n",
       "      <th>0</th>\n",
       "      <td>HEPG2-01_1_B02</td>\n",
       "      <td>HEPG2-01</td>\n",
       "      <td>1</td>\n",
       "      <td>B02</td>\n",
       "      <td>1</td>\n",
       "      <td>1</td>\n",
       "      <td>71.063782</td>\n",
       "      <td>43.146240</td>\n",
       "      <td>67.0</td>\n",
       "      <td>7</td>\n",
       "      <td>255</td>\n",
       "    </tr>\n",
       "    <tr>\n",
       "      <th>1</th>\n",
       "      <td>HEPG2-01_1_B02</td>\n",
       "      <td>HEPG2-01</td>\n",
       "      <td>1</td>\n",
       "      <td>B02</td>\n",
       "      <td>1</td>\n",
       "      <td>2</td>\n",
       "      <td>32.174431</td>\n",
       "      <td>9.384594</td>\n",
       "      <td>31.0</td>\n",
       "      <td>6</td>\n",
       "      <td>98</td>\n",
       "    </tr>\n",
       "    <tr>\n",
       "      <th>2</th>\n",
       "      <td>HEPG2-01_1_B02</td>\n",
       "      <td>HEPG2-01</td>\n",
       "      <td>1</td>\n",
       "      <td>B02</td>\n",
       "      <td>1</td>\n",
       "      <td>3</td>\n",
       "      <td>61.836025</td>\n",
       "      <td>23.377997</td>\n",
       "      <td>59.0</td>\n",
       "      <td>11</td>\n",
       "      <td>255</td>\n",
       "    </tr>\n",
       "    <tr>\n",
       "      <th>3</th>\n",
       "      <td>HEPG2-01_1_B02</td>\n",
       "      <td>HEPG2-01</td>\n",
       "      <td>1</td>\n",
       "      <td>B02</td>\n",
       "      <td>1</td>\n",
       "      <td>4</td>\n",
       "      <td>56.983257</td>\n",
       "      <td>16.011435</td>\n",
       "      <td>56.0</td>\n",
       "      <td>11</td>\n",
       "      <td>156</td>\n",
       "    </tr>\n",
       "    <tr>\n",
       "      <th>4</th>\n",
       "      <td>HEPG2-01_1_B02</td>\n",
       "      <td>HEPG2-01</td>\n",
       "      <td>1</td>\n",
       "      <td>B02</td>\n",
       "      <td>1</td>\n",
       "      <td>5</td>\n",
       "      <td>91.671993</td>\n",
       "      <td>39.221836</td>\n",
       "      <td>85.0</td>\n",
       "      <td>13</td>\n",
       "      <td>255</td>\n",
       "    </tr>\n",
       "  </tbody>\n",
       "</table>\n",
       "</div>"
      ],
      "text/plain": [
       "          id_code experiment  plate well  site  channel       mean        std  \\\n",
       "0  HEPG2-01_1_B02   HEPG2-01      1  B02     1        1  71.063782  43.146240   \n",
       "1  HEPG2-01_1_B02   HEPG2-01      1  B02     1        2  32.174431   9.384594   \n",
       "2  HEPG2-01_1_B02   HEPG2-01      1  B02     1        3  61.836025  23.377997   \n",
       "3  HEPG2-01_1_B02   HEPG2-01      1  B02     1        4  56.983257  16.011435   \n",
       "4  HEPG2-01_1_B02   HEPG2-01      1  B02     1        5  91.671993  39.221836   \n",
       "\n",
       "   median  min  max  \n",
       "0    67.0    7  255  \n",
       "1    31.0    6   98  \n",
       "2    59.0   11  255  \n",
       "3    56.0   11  156  \n",
       "4    85.0   13  255  "
      ]
     },
     "execution_count": 77,
     "metadata": {},
     "output_type": "execute_result"
    }
   ],
   "source": [
    "pix_df.head()"
   ]
  },
  {
   "cell_type": "code",
   "execution_count": 85,
   "metadata": {},
   "outputs": [],
   "source": [
    "mean_array = np.zeros(6)\n",
    "std_array = np.zeros(6)\n",
    "for i in range(6):\n",
    "    mean_array[i] = pix_df[pix_df[\"channel\"] == i+1][\"mean\"].mean()\n",
    "    std_array[i] = np.sqrt((pix_df[pix_df[\"channel\"] == i+1][\"std\"]**2).mean())"
   ]
  },
  {
   "cell_type": "code",
   "execution_count": 86,
   "metadata": {},
   "outputs": [
    {
     "data": {
      "text/plain": [
       "array([ 5.84569159, 15.56796586, 10.10558294,  9.96439587,  5.57672051,\n",
       "        9.06773161])"
      ]
     },
     "execution_count": 86,
     "metadata": {},
     "output_type": "execute_result"
    }
   ],
   "source": [
    "mean_array"
   ]
  },
  {
   "cell_type": "code",
   "execution_count": 87,
   "metadata": {},
   "outputs": [
    {
     "data": {
      "text/plain": [
       "array([ 9.56803863, 13.35443191,  6.68432598,  8.67382883,  7.24327818,\n",
       "        6.02148357])"
      ]
     },
     "execution_count": 87,
     "metadata": {},
     "output_type": "execute_result"
    }
   ],
   "source": [
    "std_array"
   ]
  },
  {
   "cell_type": "code",
   "execution_count": 81,
   "metadata": {},
   "outputs": [
    {
     "data": {
      "text/plain": [
       "array([6.62263268, 4.54647128, 3.67290432, 4.45053202, 5.53789205,\n",
       "       3.48473303])"
      ]
     },
     "execution_count": 81,
     "metadata": {},
     "output_type": "execute_result"
    }
   ],
   "source": [
    "std_array"
   ]
  },
  {
   "cell_type": "code",
   "execution_count": null,
   "metadata": {},
   "outputs": [],
   "source": []
  }
 ],
 "metadata": {
  "kernelspec": {
   "display_name": "Python 3",
   "language": "python",
   "name": "python3"
  },
  "language_info": {
   "codemirror_mode": {
    "name": "ipython",
    "version": 3
   },
   "file_extension": ".py",
   "mimetype": "text/x-python",
   "name": "python",
   "nbconvert_exporter": "python",
   "pygments_lexer": "ipython3",
   "version": "3.6.4"
  }
 },
 "nbformat": 4,
 "nbformat_minor": 1
}
